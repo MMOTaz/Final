{
 "cells": [
  {
   "cell_type": "markdown",
   "id": "269dedcc-b9ad-4fe5-9870-e585650b5ec4",
   "metadata": {},
   "source": [
    "# Data prepepration"
   ]
  },
  {
   "cell_type": "code",
   "execution_count": 1,
   "id": "c35fe776-c81c-4a50-89dd-4631c3b16389",
   "metadata": {},
   "outputs": [],
   "source": [
    "import pandas as pd\n",
    "import plotly.express as px\n",
    "from dash import Dash, dcc, html, Input, Output, callback_context\n",
    "import dash_leaflet as dl\n",
    "\n",
    "# Load datasets\n",
    "desinventar = pd.read_csv(\"GhanaDesInventar.csv\")\n",
    "emdat = pd.read_csv(\"Romania+Ghana_EMDAT.csv\")\n",
    "dartmouth = pd.read_csv(\"DartmouthFlood.csv\")\n",
    "\n",
    "# Process DesInventar Data\n",
    "desinventar_data = desinventar[['Location', 'latitude', 'longitude', 'Date', 'Event']].copy()\n",
    "desinventar_data = desinventar_data.rename(columns={'Date': 'Year'})\n",
    "desinventar_data['Year'] = pd.to_datetime(desinventar_data['Year'], format='%Y/%m/%d', errors='coerce').dt.year\n",
    "desinventar_data['Database'] = \"DesInventar\"\n",
    "\n",
    "# Process EM-DAT Data\n",
    "emdat_data = emdat[['Location', 'Latitude', 'Longitude', 'Start Year', 'Disaster Type']].copy()\n",
    "emdat_data = emdat_data.rename(columns={'Latitude': 'latitude', 'Longitude': 'longitude', 'Start Year': 'Year'})\n",
    "emdat_data['Year'] = pd.to_datetime(emdat_data['Year'], format='%Y', errors='coerce').dt.year\n",
    "emdat_data['Database'] = \"EM-DAT\"\n",
    "\n",
    "# Process Dartmouth Data\n",
    "dartmouth_data = dartmouth[['Country', 'lat', 'long', 'Began', 'MainCause']].copy()\n",
    "dartmouth_data = dartmouth_data.rename(columns={'lat': 'latitude', 'long': 'longitude', 'Began': 'Year'})\n",
    "dartmouth_data['Year'] = pd.to_datetime(dartmouth_data['Year'], format='%d/%m/%Y', errors='coerce').dt.year\n",
    "dartmouth_data['Database'] = \"Dartmouth\"\n",
    "\n",
    "# Combine datasets\n",
    "data = pd.concat([desinventar_data, emdat_data, dartmouth_data], ignore_index=True)\n",
    "data = data.dropna(subset=['latitude', 'longitude', 'Year'])\n",
    "\n",
    "# Extract unique event types and years\n",
    "desinventar_events = desinventar_data['Event'].unique()\n",
    "emdat_events = emdat_data['Disaster Type'].unique()\n",
    "dartmouth_events = dartmouth_data['MainCause'].drop_duplicates().dropna().unique()\n",
    "years = sorted(data['Year'].unique().astype(int))"
   ]
  },
  {
   "cell_type": "code",
   "execution_count": 2,
   "id": "8d94896f-1725-472f-ab46-bdf55589100b",
   "metadata": {},
   "outputs": [
    {
     "data": {
      "text/plain": [
       "Index(['Location', 'latitude', 'longitude', 'Year', 'Event', 'Database',\n",
       "       'Disaster Type', 'Country', 'MainCause'],\n",
       "      dtype='object')"
      ]
     },
     "execution_count": 2,
     "metadata": {},
     "output_type": "execute_result"
    }
   ],
   "source": [
    "data.columns"
   ]
  },
  {
   "cell_type": "code",
   "execution_count": 3,
   "id": "7d204d5e-fb41-40cb-927b-692bd06edff8",
   "metadata": {},
   "outputs": [
    {
     "name": "stdout",
     "output_type": "stream",
     "text": [
      "Location :  5264\n",
      "latitude :  0\n",
      "longitude :  0\n",
      "Year :  0\n",
      "Event :  5181\n",
      "Database :  0\n",
      "Disaster Type :  6959\n",
      "Country :  1880\n",
      "MainCause :  1883\n"
     ]
    }
   ],
   "source": [
    "for column in data.columns:\n",
    "    print(column,': ',len(data[data[column].isna()  ]))"
   ]
  },
  {
   "cell_type": "code",
   "execution_count": 4,
   "id": "d1799365-0b7e-4edb-a68c-1e3e951d6f1a",
   "metadata": {},
   "outputs": [
    {
     "name": "stdout",
     "output_type": "stream",
     "text": [
      "0\n",
      "0\n",
      "0\n"
     ]
    }
   ],
   "source": [
    "for database in data['Database'].unique():\n",
    "    print(len(data[(data['longitude'].isna()) & (data['Database'] == database)]))"
   ]
  },
  {
   "cell_type": "code",
   "execution_count": 5,
   "id": "d507a547-e773-44e9-b307-3e33929a36fa",
   "metadata": {},
   "outputs": [],
   "source": [
    "data.to_excel('test.xlsx')"
   ]
  },
  {
   "cell_type": "markdown",
   "id": "253f8e78-3eee-4722-bc1b-5b71c1760fae",
   "metadata": {},
   "source": [
    "# Dashboard"
   ]
  },
  {
   "cell_type": "code",
   "execution_count": 5,
   "id": "dcf38b89-8c2d-40d6-a2d6-55d4925b864d",
   "metadata": {},
   "outputs": [
    {
     "data": {
      "text/html": [
       "\n",
       "        <iframe\n",
       "            width=\"100%\"\n",
       "            height=\"650\"\n",
       "            src=\"http://127.0.0.1:8050/\"\n",
       "            frameborder=\"0\"\n",
       "            allowfullscreen\n",
       "            \n",
       "        ></iframe>\n",
       "        "
      ],
      "text/plain": [
       "<IPython.lib.display.IFrame at 0x2b4669aba10>"
      ]
     },
     "metadata": {},
     "output_type": "display_data"
    }
   ],
   "source": [
    "# Define Dash app\n",
    "app = Dash(__name__)\n",
    "\n",
    "app.layout = html.Div([\n",
    "    html.H1(\"Interactive Disaster Map\", style={'text-align': 'center'}),\n",
    "\n",
    "    # Year filter\n",
    "    html.Label(\"Select Year:\"),\n",
    "    dcc.Dropdown(\n",
    "        id='year_filter',\n",
    "        options=[{\"label\": str(year), \"value\": year} for year in years],\n",
    "        value=years[-1],\n",
    "        style={'width': '40%', 'margin': 'auto'}\n",
    "    ),\n",
    "\n",
    "    html.Div(id='event_count', style={'text-align': 'center', 'margin-top': '10px'}),\n",
    "\n",
    "    # Dropdown menus for event selection\n",
    "    html.Div([\n",
    "        html.Label(\"DesInventar Events\"),\n",
    "        dcc.Dropdown(\n",
    "            id='desinventar_events',\n",
    "            options=[{\"label\": event, \"value\": event} for event in desinventar_events] + [{\"label\": \"Select All\", \"value\": \"all\"}],\n",
    "            multi=True,\n",
    "            value=[\"all\"]\n",
    "        ),\n",
    "\n",
    "        html.Label(\"EM-DAT Events\"),\n",
    "        dcc.Dropdown(\n",
    "            id='emdat_events',\n",
    "            options=[{\"label\": event, \"value\": event} for event in emdat_events] + [{\"label\": \"Select All\", \"value\": \"all\"}],\n",
    "            multi=True,\n",
    "            value=[\"all\"]\n",
    "        ),\n",
    "\n",
    "        html.Label(\"Dartmouth Events\"),\n",
    "        dcc.Dropdown(\n",
    "            id='dartmouth_events',\n",
    "            options=[{\"label\": event, \"value\": event} for event in dartmouth_events if isinstance(event, str)] + [{\"label\": \"Select All\", \"value\": \"all\"}],\n",
    "            multi=True,\n",
    "            value=[\"all\"]\n",
    "        )\n",
    "    ], style={'width': '40%', 'margin': 'auto'}),\n",
    "\n",
    "    # Zoom-to-City Buttons\n",
    "    html.Div([\n",
    "        html.Button(\"Zoom to Akuse, Ghana\", id=\"zoom_akuse\"),\n",
    "        html.Button(\"Zoom to Timisoara, Romania\", id=\"zoom_timisoara\")\n",
    "    ], style={'text-align': 'center', 'margin-top': '20px'}),\n",
    "\n",
    "    # Map\n",
    "    dl.Map(\n",
    "        id='disaster_map',\n",
    "        center=[0, 0],\n",
    "        zoom=2,\n",
    "        children=[\n",
    "            dl.TileLayer(),\n",
    "            dl.LayerGroup(id='layer_desinventar'),\n",
    "            dl.LayerGroup(id='layer_emdat'),\n",
    "            dl.LayerGroup(id='layer_dartmouth')\n",
    "        ],\n",
    "        style={'width': '100%', 'height': '600px', 'margin': 'auto'}\n",
    "    )\n",
    "])\n",
    "\n",
    "@app.callback(\n",
    "    [Output('layer_desinventar', 'children'),\n",
    "     Output('layer_emdat', 'children'),\n",
    "     Output('layer_dartmouth', 'children'),\n",
    "     Output('event_count', 'children')],\n",
    "    [Input('year_filter', 'value'),\n",
    "     Input('desinventar_events', 'value'),\n",
    "     Input('emdat_events', 'value'),\n",
    "     Input('dartmouth_events', 'value')]\n",
    ")\n",
    "\n",
    "def update_map(selected_year, desinventar_selected, emdat_selected, dartmouth_selected):\n",
    "    # Filter data by selected year\n",
    "    filtered_desinventar = desinventar_data[desinventar_data['Year'] == selected_year]\n",
    "    filtered_emdat = emdat_data[emdat_data['Year'] == selected_year]\n",
    "    filtered_dartmouth = dartmouth_data[dartmouth_data['Year'] == selected_year]\n",
    "\n",
    "    # Filter data by selected events\n",
    "    if \"all\" not in desinventar_selected:\n",
    "        filtered_desinventar = filtered_desinventar[filtered_desinventar['Event'].isin(desinventar_selected)]\n",
    "\n",
    "    if \"all\" not in emdat_selected:\n",
    "        filtered_emdat = filtered_emdat[filtered_emdat['Disaster Type'].isin(emdat_selected)]\n",
    "\n",
    "    if \"all\" not in dartmouth_selected:\n",
    "        filtered_dartmouth = filtered_dartmouth[filtered_dartmouth['MainCause'].isin(dartmouth_selected)]\n",
    "\n",
    "    # # Create map layers\n",
    "    # desinventar_markers = [dl.Marker(position=[row['latitude'], row['longitude']], children=dl.Popup(row['Event'])) for _, row in filtered_desinventar.iterrows()]\n",
    "    # emdat_markers = [dl.Marker(position=[row['latitude'], row['longitude']], children=dl.Popup(row['Disaster Type'])) for _, row in filtered_emdat.iterrows()]\n",
    "    # dartmouth_markers = [dl.Marker(position=[row['latitude'], row['longitude']], children=dl.Popup(row['MainCause'])) for _, row in filtered_dartmouth.iterrows()]\n",
    "\n",
    "    # Validate and create markers\n",
    "    desinventar_markers = [\n",
    "        dl.CircleMarker(\n",
    "            center=[row['latitude'], row['longitude']],\n",
    "            color=\"red\",  # Color for DesInventar\n",
    "            radius=8,  # Adjust size as needed\n",
    "            children=dl.Popup(row['Event'])\n",
    "        )\n",
    "        for _, row in filtered_desinventar.iterrows()\n",
    "        if not pd.isnull(row['latitude']) and not pd.isnull(row['longitude'])\n",
    "    ]\n",
    "\n",
    "    emdat_markers = [\n",
    "        dl.CircleMarker(\n",
    "            center=[row['latitude'], row['longitude']],\n",
    "            color=\"blue\",  # Color for EM-DAT\n",
    "            radius=8,  # Adjust size as needed\n",
    "            children=dl.Popup(row['Disaster Type'])\n",
    "        )\n",
    "        for _, row in filtered_emdat.iterrows()\n",
    "        if not pd.isnull(row['latitude']) and not pd.isnull(row['longitude'])\n",
    "    ]\n",
    "\n",
    "    dartmouth_markers = [\n",
    "        dl.CircleMarker(\n",
    "            center=[row['latitude'], row['longitude']],\n",
    "            color=\"green\",  # Color for Dartmouth\n",
    "            radius=8,  # Adjust size as needed\n",
    "            children=dl.Popup(row['MainCause'])\n",
    "        )\n",
    "        for _, row in filtered_dartmouth.iterrows()\n",
    "        if not pd.isnull(row['latitude']) and not pd.isnull(row['longitude'])\n",
    "    ]\n",
    "\n",
    "    # Count events\n",
    "    total_events = len(filtered_desinventar) + len(filtered_emdat) + len(filtered_dartmouth)\n",
    "\n",
    "    return desinventar_markers, emdat_markers, dartmouth_markers, f\"Visible Events: {total_events}\"\n",
    "\n",
    "@app.callback(\n",
    "    [Output('disaster_map', 'center'), Output('disaster_map', 'zoom')],\n",
    "    [Input('zoom_akuse', 'n_clicks'), Input('zoom_timisoara', 'n_clicks')]\n",
    ")\n",
    "\n",
    "def zoom_to_city(zoom_akuse_clicks, zoom_timisoara_clicks):\n",
    "    ctx = callback_context  # Access the callback context\n",
    "    if not ctx.triggered:\n",
    "        return [0, 0], 2  # Default to a global view\n",
    "\n",
    "    button_id = ctx.triggered[0]['prop_id'].split('.')[0]\n",
    "\n",
    "    if button_id == 'zoom_akuse':\n",
    "        return [6.1088, 0.1281], 5  # Coordinates and zoom level for Akuse\n",
    "    elif button_id == 'zoom_timisoara':\n",
    "        return [45.7489, 21.2087], 5  # Coordinates and zoom level for Timișoara\n",
    "\n",
    "    return [0, 0], 2  # Default fallback\n",
    "\n",
    "\n",
    "if __name__ == '__main__':\n",
    "    app.run_server(debug=True)\n"
   ]
  },
  {
   "cell_type": "code",
   "execution_count": null,
   "id": "9b084b9a-67dd-42b2-afaf-f557fb1f531d",
   "metadata": {},
   "outputs": [],
   "source": [
    "#"
   ]
  }
 ],
 "metadata": {
  "kernelspec": {
   "display_name": "dashboards",
   "language": "python",
   "name": "python3"
  },
  "language_info": {
   "codemirror_mode": {
    "name": "ipython",
    "version": 3
   },
   "file_extension": ".py",
   "mimetype": "text/x-python",
   "name": "python",
   "nbconvert_exporter": "python",
   "pygments_lexer": "ipython3",
   "version": "3.13.1"
  }
 },
 "nbformat": 4,
 "nbformat_minor": 5
}
